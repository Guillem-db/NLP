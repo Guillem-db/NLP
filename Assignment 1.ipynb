{
 "metadata": {
  "name": "",
  "signature": "sha256:6fc6349cf6b7cda5be106deb2020224ea798d47b08685f014821bb33a6820ce5"
 },
 "nbformat": 3,
 "nbformat_minor": 0,
 "worksheets": [
  {
   "cells": [
    {
     "cell_type": "code",
     "collapsed": false,
     "input": [
      "import nltk\n",
      "import seaborn as sns"
     ],
     "language": "python",
     "metadata": {},
     "outputs": [],
     "prompt_number": 1
    },
    {
     "cell_type": "heading",
     "level": 2,
     "metadata": {},
     "source": [
      "Acquiring the corpus"
     ]
    },
    {
     "cell_type": "markdown",
     "metadata": {},
     "source": [
      "First you need to get the raw text version, and the gold standard list of tokens. They are in different\n",
      "NLTK corpora, treebank_raw and treebank_chunk, respectively. Furthermore, there are some differences that we need to fix: E.g., there are two different quotations in the gold standard ('' and``\n",
      "),whereas there is only one in the raw text (\"), so to make them comparable we translate the gold\n",
      "standard quotes into the raw form. You can use these two functions to get the raw and gold corpus: "
     ]
    },
    {
     "cell_type": "code",
     "collapsed": false,
     "input": [
      "def get_corpus_text(nr_files=199):\n",
      "  \"\"\"Returns the raw corpus as a long string.\n",
      "  'nr_files' says how much of the corpus is returned;\n",
      "  default is 199, which is the whole corpus.\n",
      "  \"\"\"\n",
      "  fileids = nltk.corpus.treebank_raw.fileids()[:nr_files]\n",
      "  corpus_text = nltk.corpus.treebank_raw.raw(fileids)\n",
      "  # Get rid of the \".START\" text in the beginning of each file:\n",
      "  corpus_text = corpus_text.replace(\".START\", \"\")\n",
      "  return corpus_text \n",
      "\n",
      "def fix_treebank_tokens(tokens):\n",
      "  \"\"\"Replace tokens so that they are similar to the raw corpus text.\"\"\"\n",
      "  return [token.replace(\"''\", '\"').replace(\"``\",'\"').replace(r\"\\/\", \"/\") for token in tokens] \n",
      "\n",
      "def get_gold_tokens(nr_files=199):\n",
      "  \"\"\"Returns the gold corpus as a list of strings.\n",
      "  'nr_files' says how much of the corpus is returned;\n",
      "  default is 199, which is the whole corpus.\n",
      "  \"\"\"\n",
      "  fileids = nltk.corpus.treebank_chunk.fileids()[:nr_files]\n",
      "  gold_tokens = nltk.corpus.treebank_chunk.words(fileids)\n",
      "  return fix_treebank_tokens(gold_tokens) "
     ],
     "language": "python",
     "metadata": {},
     "outputs": [],
     "prompt_number": 2
    },
    {
     "cell_type": "code",
     "collapsed": false,
     "input": [
      "#gold_tokens"
     ],
     "language": "python",
     "metadata": {},
     "outputs": [],
     "prompt_number": 4
    },
    {
     "cell_type": "code",
     "collapsed": false,
     "input": [
      "import re"
     ],
     "language": "python",
     "metadata": {},
     "outputs": [],
     "prompt_number": 5
    },
    {
     "cell_type": "heading",
     "level": 2,
     "metadata": {},
     "source": [
      "Tokenize the corpus"
     ]
    },
    {
     "cell_type": "markdown",
     "metadata": {},
     "source": [
      "Create a function that tokenizes a given text:"
     ]
    },
    {
     "cell_type": "code",
     "collapsed": false,
     "input": [
      "def tokenize_corpus(text):\n",
      "  \"\"\"Don't forget the docstring!\"\"\"\n",
      "  pre=re.sub(r\"([a-zA-Z]+)(n't|'s|'re|'ll|'m|'ve|'d)\", r'\\1 \\2',text)  \n",
      "  pattern = r'''(?x)   # set flag to allow verbose regexps\n",
      "   ([A-Z]\\.)+          # abbreviations, e.g. U.S.A.\n",
      "   | n't|'s|'re|'ll|'m|'ve|'d                # fix 1\n",
      "   | Mrs?\\.|Dr\\.|Ms\\.      # fix 2 \n",
      "   |Nov\\.|Inc\\.|Corp\\.|Co\\.|\\bDec\\.|Aug\\.|Sept\\.|Ala\\.|Ltd\\.|Jr\\.|S&P|Rep\\.|Oct\\.|St\\.\n",
      "   | '?[0-9]+s\n",
      "   |--\n",
      "   | [0-9]+.[0-9]+\n",
      "   | \\w+(-\\w+)*        # words with optional internal hyphens\n",
      "   | \\.\\.\\.            # ellipsis\n",
      "   | [][#\\.,;\"?()%$&:-_`]  # these are separate tokens; includes ], [\n",
      "  '''\n",
      "  tokens=nltk.regexp_tokenize(pre, pattern)  \n",
      "  return tokens"
     ],
     "language": "python",
     "metadata": {},
     "outputs": [],
     "prompt_number": 174
    },
    {
     "cell_type": "code",
     "collapsed": false,
     "input": [
      "def evaluate_tokenization(test_tokens, gold_tokens):\n",
      "  \"\"\"Finds the chunks where test_tokens differs from gold_tokens.\n",
      "  Prints the errors and calculates similarity measures.\n",
      "  \"\"\"\n",
      "  import difflib\n",
      "  matcher = difflib.SequenceMatcher()\n",
      "  matcher.set_seqs(test_tokens, gold_tokens)\n",
      "  error_chunks = true_positives = false_positives= false_negatives = 0\n",
      "  print \" Token%30s | %-30sToken\" % (\"Error\", \"Correct\")\n",
      "  print \"-\" * 38 + \"+\" + \"-\" * 38\n",
      "  for difftype, test_from, test_to, gold_from, gold_to in matcher.get_opcodes():\n",
      "    if difftype == \"equal\":\n",
      "      true_positives += test_to - test_from\n",
      "    else:\n",
      "      false_positives += test_to - test_from\n",
      "      false_negatives += gold_to - gold_from\n",
      "      error_chunks += 1\n",
      "      test_chunk = \" \".join(test_tokens[test_from:test_to])\n",
      "      gold_chunk = \" \".join(gold_tokens[gold_from:gold_to])\n",
      "      print \"%6d%30s | %-30s%d\" % (test_from, test_chunk, gold_chunk, gold_from)\n",
      "        \n",
      "  precision = 1.0 * true_positives / (true_positives + false_positives)\n",
      "  recall = 1.0 * true_positives / (true_positives+ false_negatives)\n",
      "  fscore = 2.0 * precision * recall / (precision+ recall)\n",
      "  print\n",
      "  print \"Test size: %5d tokens\" % len(test_tokens)\n",
      "  print \"Gold size: %5d tokens\" % len(gold_tokens)\n",
      "  print \"Nr errors: %5d chunks\" % error_chunks\n",
      "  print \"Precision: %5.2f %%\" % (100 * precision)\n",
      "  print \"Recall: %5.2f %%\" % (100 * recall)\n",
      "  print \"F-score: %5.2f %%\" % (100 * fscore)        "
     ],
     "language": "python",
     "metadata": {},
     "outputs": [],
     "prompt_number": 175
    },
    {
     "cell_type": "code",
     "collapsed": false,
     "input": [
      "cor_text=get_corpus_text(199)\n",
      "gold_tokens=get_gold_tokens(199)\n",
      "tokens=tokenize_corpus(cor_text)"
     ],
     "language": "python",
     "metadata": {},
     "outputs": [],
     "prompt_number": 176
    },
    {
     "cell_type": "code",
     "collapsed": false,
     "input": [],
     "language": "python",
     "metadata": {},
     "outputs": [],
     "prompt_number": 176
    },
    {
     "cell_type": "code",
     "collapsed": false,
     "input": [
      "evaluate_tokenization(tokens,gold_tokens)"
     ],
     "language": "python",
     "metadata": {},
     "outputs": [
      {
       "output_type": "stream",
       "stream": "stdout",
       "text": [
        " Token                         Error | Correct                       Token\n",
        "--------------------------------------+--------------------------------------\n",
        "   444                        Mass . | Mass.                         444"
       ]
      },
      {
       "output_type": "stream",
       "stream": "stdout",
       "text": [
        "\n",
        "   818                      Donoghue |                               817\n",
        "   863                               | '                             861\n",
        "  1299                          S. p | S.p                           1298\n",
        "  1499                         Corp. | Corp .                        1497\n",
        "  1794                               | '                             1793\n",
        "  2566                   4,393 , 237 | 4,393,237                     2566\n",
        "  2587                   3,288 , 453 | 3,288,453                     2585\n",
        "  2601                               | '                             2597\n",
        "  2607                   2,303 , 328 | 2,303,328                     2604\n",
        "  2704                        Mass . | Mass.                         2699\n",
        "  2752                        Conn . | Conn.                         2746\n",
        "  2923                         . . . | ...                           2916\n",
        "  3310                         Feb . | Feb.                          3301\n",
        "  3337                         . . . | ...                           3327\n",
        "  3455                         3 1 2 | 3 1/2                         3443\n",
        "  3496                         Ill . | Ill.                          3484\n",
        "  3670                 summer winter | summer/winter                 3657\n",
        "  3801                               | '                             3787\n",
        "  4510                          Ltd. | Ltd .                         4497\n",
        "  4749                        Colo . | Colo.                         4737\n",
        "  4798                      Messrs . | Messrs.                       4785\n",
        "  5181                               | {                             5167\n",
        "  5182                               | }                             5169\n",
        "  6288                         Pty . | Pty.                          6276\n",
        "  6859                          US $ | US$                           6846\n",
        "  6879                           C $ | C$                            6865\n",
        "  7147                           Co. | Co .                          7132\n",
        "  7260                          U.S. | U.S .                         7246\n",
        "  7419                               | '                             7406\n",
        "  7437                     S. p . A. | S.p.A.                        7425\n",
        "  8048                               | '                             8033\n",
        "  8110                               | '                             8096\n",
        "  8406                          U.S. | U.S .                         8393\n",
        "  8518                          U.S. | U.S .                         8506\n",
        "  9174                               | '                             9163\n",
        "  9190                         Corp. | Corp .                        9180\n",
        "  9317                               | '                             9308\n",
        "  9564                               | '                             9556\n",
        "  9693                               | '                             9686\n",
        "  9784                               | '                             9778\n",
        " 10807                               | '                             10802\n",
        " 11281                          U.S. | U.S .                         11277\n",
        " 11840                         . . . | ...                           11837\n",
        " 11918                          US $ | US$                           11913\n",
        " 11955                           C $ | C$                            11949\n",
        " 13109                          Ltd. | Ltd .                         13102\n",
        " 13972                    Lt . Gov . | Lt. Gov.                      13966\n",
        " 14209                       C 'm on | C'mon                         14201\n",
        " 14552                               | {                             14542\n",
        " 14555                               | }                             14546\n",
        " 14655                         . . . | ...                           14647\n",
        " 14791                      O Connor | O'Connor                      14781\n",
        " 14795                         Gov . | Gov.                          14784\n",
        " 14818                      O Connor | O'Connor                      14806\n",
        " 14985                         Corp. | Corp .                        14972\n",
        " 15143                               | '                             15131\n",
        " 15203                 U.S. Japanese | U.S.-Japanese                 15192\n",
        " 15298                               | '                             15286\n",
        " 16033                         . . . | ...                           16022\n",
        " 16049                         . . . | ...                           16036\n",
        " 16415                               | '                             16400\n",
        " 16639         Macmillan McGraw-Hill | Macmillan/McGraw-Hill         16625\n",
        " 16758                               | '                             16743\n",
        " 18356                               | '                             18342\n",
        " 18402                          Mrs. | Mrs .                         18389\n",
        " 18972         Macmillan McGraw-Hill | Macmillan/McGraw-Hill         18960\n",
        " 19018         Macmillan McGraw-Hill | Macmillan/McGraw-Hill         19005\n",
        " 19036                         Corp. | Corp .                        19022\n",
        " 19091                               | {                             19078\n",
        " 19094                               | }                             19082\n",
        " 19125                        Mich . | Mich.                         19114\n",
        " 19256              Macmillan McGraw | Macmillan/McGraw              19244\n",
        " 19338              Macmillan McGraw | Macmillan/McGraw              19325\n",
        " 19379                               | '                             19365\n",
        " 19419Macmillan McGraw , the Macmillan McGraw | Macmillan/McGraw , the Macmillan/McGraw19406\n",
        " 19630                               | '                             19615\n",
        " 19698                      Messrs . | Messrs.                       19684\n",
        " 19816   Macmillan McGraw . Messrs . | Macmillan/McGraw . Messrs.    19801\n",
        " 19868                         S & L | S&L                           19851\n",
        " 20900                         7 3 4 | 7 3/4                         20881\n",
        " 20908                        Conn . | Conn.                         20889\n",
        " 20946                        Conn . | Conn.                         20926\n",
        " 21008                        18 1 4 | 18 1/4                        20987\n",
        " 21070               1 3 4 to 18 1 4 | 1 3/4 to 18 1/4               21049\n",
        " 21080                         8 3 4 | 8 3/4                         21059\n",
        " 21097                         5 7 8 | 5 7/8                         21076\n",
        " 21117               6 5 8 to 21 5 8 | 6 5/8 to 21 5/8               21096\n",
        " 21158                           4 1 |                               21137\n",
        " 21160                               | 1/4                           21138\n",
        " 21253               6 3 4 to 55 1 2 | 6 3/4 to 55 1/2               21232\n",
        " 21272                        12 1 4 | 12 1/4                        21251\n",
        " 21318                        13 7 8 | 13 7/8                        21297\n",
        " 21366                        14 3 4 | 14 3/4                        21345\n",
        " 21414               1 3 4 to 21 3 4 | 1 3/4 to 21 3/4               21393\n",
        " 21782                        cannot | can not                       21761\n",
        " 21995                               | '                             21975\n",
        " 22371                               | '                             22352\n",
        " 22557                         . . . | ...                           22539\n",
        " 22641                     CREATOR S | CREATOR'S                     22621\n",
        " 22682                               | '                             22661\n",
        " 23379                   Iran Contra | Iran/Contra                   23359\n",
        " 23426                    520 lawyer | 520-lawyer                    23405\n",
        " 23496                          Ga . | Ga.                           23474\n",
        " 23500    Bridgestone Firestone Inc. | Bridgestone/Firestone Inc .   23477\n",
        " 23596                               | '                             23573\n",
        " 23653                          No . | No.                           23631\n",
        " 23762                               | '                             23739\n",
        " 24052                    U.S. Japan | U.S.-Japan                    24030\n",
        " 24496                          U.S. | U.S .                         24473\n",
        " 24589                     a-Average | a - Average                   24567\n",
        " 24612                     b-Current | b - Current                   24592\n",
        " 24915                       Calif . | Calif.                        24897\n",
        " 24984                           Co. | Co .                          24965\n",
        " 25045                           Co. | Co .                          25027\n",
        " 25050                          N.J. | N.J .                         25033\n",
        " 25262                               | {                             25246\n",
        " 25263                               | }                             25248\n",
        " 25673                               | '                             25659\n",
        " 25677                               | '                             25664\n",
        " 26073                               | '                             26061\n",
        " 26164                           Co. | Co .                          26153\n",
        " 26201                          Ky . | Ky.                           26191\n",
        " 27158                         . . . | ...                           27147\n",
        " 27335                        AT & T | AT&T                          27322\n",
        " 27656                               | '                             27641\n",
        " 27802                               | '                             27788\n",
        " 27839                               | '                             27826\n",
        " 27888                               | '                             27876\n",
        " 27939                               | {                             27928\n",
        " 27956                               | }                             27946\n",
        " 27961                               | '                             27952\n",
        " 27987                               | '                             27979\n",
        " 28096                               | '                             28089\n",
        " 28238                          U.S. | U.S .                         28232\n",
        " 28322                         Sen . | Sen.                          28317\n",
        " 28368                         Sen . | Sen.                          28362\n",
        " 28647                         Ill . | Ill.                          28640\n",
        " 29099                         Jan . | Jan.                          29091\n",
        " 29112                    N.J. based | N.J.-based                    29103\n",
        " 29245                       1/10 th | 1/10th                        29235\n",
        " 29711                               | !                             29700\n",
        " 29797                            82 | '82                           29787\n",
        " 30344                         Ill . | Ill.                          30334\n",
        " 30508                               | {                             30497\n",
        " 30514                               | }                             30504\n",
        " 30790                            86 | '86                           30781\n",
        " 31107                           Co. | Co .                          31098\n",
        " 31781                         . . . | ...                           31773\n",
        " 32362                               | '                             32352\n",
        " 32812                           Co. | Co .                          32803\n",
        " 33320                        Conn . | Conn.                         33312\n",
        " 33450                               | '                             33441\n",
        " 33505                          U.S. | U.S .                         33497\n",
        " 33720                          U.S. | U.S .                         33713\n",
        " 33734                   in the U.S. | { in the U.S . }              33728\n",
        " 33880                           Jr. | Jr .                          33877\n",
        " 33904                           Co. | Co .                          33902\n",
        " 33973                         Sen . | Sen.                          33972\n",
        " 34024                               | '                             34022\n",
        " 34436                        Mass . | Mass.                         34435\n",
        " 34705                          Inc. | Inc .                         34703\n",
        " 34709                        Mass . | Mass.                         34708\n",
        " 34767                          Inc. | Inc .                         34765\n",
        " 34869                          Va . | Va.                           34868\n",
        " 35001                         . . . | ...                           34999\n",
        " 35896                        Tenn . | Tenn.                         35892\n",
        " 36021                         Fla . | Fla.                          36016\n",
        " 36219                               | '                             36213\n",
        " 36385                               | {                             36380\n",
        " 36386                               | }                             36382\n",
        " 36464                          N.C. | N.C .                         36461\n",
        " 36573              savers investors | savers/investors              36571\n",
        " 36808                        Ariz . | Ariz.                         36805\n",
        " 37001                         S & L | S&L                           36997\n",
        " 37121                               | !                             37115\n",
        " 37223                               | !                             37218\n",
        " 37348                     150 point | 150-point                     37344\n",
        " 37366                         p . m | p.m                           37361\n",
        " 37386                         p . m | p.m                           37379\n",
        " 37964                        Mass . | Mass.                         37955\n",
        " 38120                        Mich . | Mich.                         38110\n",
        " 38970                               | {                             38959\n",
        " 38971                               | }                             38961\n",
        " 39136                         Rev . | Rev.                          39127\n",
        " 39962                           Co. | Co .                          39952\n",
        " 40100                     500 stock | 500-stock                     40091\n",
        " 40684                           Co. | Co .                          40674\n",
        " 41054                          vs . | vs.                           41045\n",
        " 41730                   Sino-U . S. | Sino-U.S.                     41720\n",
        " 42689                               | '                             42677\n",
        " 42692                         . . . | ...                           42681\n",
        " 42970                               | '                             42957\n",
        " 42979                               | {                             42967\n",
        " 42980                               | }                             42969\n",
        " 43120                          Ala. | Ala .                         43110\n",
        " 43189                       Calif . | Calif.                        43180\n",
        " 43340                         Fla . | Fla.                          43330\n",
        " 43355                         Fla . | Fla.                          43344\n",
        " 43409                       Calif . | Calif.                        43397\n",
        " 43496                        Mich . | Mich.                         43483\n",
        " 43511                        Mich . | Mich.                         43497\n",
        " 43669                        Wash . | Wash.                         43654\n",
        " 43681                          N.J. | N.J .                         43665\n",
        " 43782                         Del . | Del.                          43767\n",
        " 43884                    62 % owned | 62%-owned                     43868\n",
        " 44002                         Fla . | Fla.                          43984\n",
        " 44014                         Ill . | Ill.                          43995\n",
        " 44029                         Ill . | Ill.                          44009\n",
        " 44044                        Colo . | Colo.                         44023\n",
        " 44059                          Pa . | Pa.                           44037\n",
        " 44107                        Miss . | Miss.                         44084\n",
        " 44120                         Fla . | Fla.                          44096\n",
        " 44136                       Calif . | Calif.                        44111\n",
        " 44226                         Fla . | Fla.                          44200\n",
        " 44305                        Minn . | Minn.                         44278\n",
        " 44325                          Sr . | Sr.                           44297\n",
        " 44330                          Pa . | Pa.                           44301\n",
        " 44345                          Mo . | Mo.                           44315\n",
        " 44357                          Md . | Md.                           44326\n",
        " 44387                         Ore . | Ore.                          44355\n",
        " 44453                       Calif . | Calif.                        44420\n",
        " 44472                       Calif . | Calif.                        44438\n",
        " 44492                       Calif . | Calif.                        44457\n",
        " 44590                        Miss . | Miss.                         44554\n",
        " 44617                        Colo . | Colo.                         44580\n",
        " 44640                          La . | La.                           44602\n",
        " 44683                         Fla . | Fla.                          44644\n",
        " 44696                        Colo . | Colo.                         44656\n",
        " 44753                          Pa . | Pa.                           44712\n",
        " 44769                        Colo . | Colo.                         44727\n",
        " 44786                         Nev . | Nev.                          44743\n",
        " 44816                         Nev . | Nev.                          44772\n",
        " 45016                               | '                             44971\n",
        " 45119                               | '                             45075\n",
        " 45398                               | '                             45355\n",
        " 45453                         . . . | ...                           45411\n",
        " 45636                               | {                             45592\n",
        " 45638                               | }                             45595\n",
        " 45688                     100 share | 100-share                     45646\n",
        " 46131                          N.J. | N.J .                         46088\n",
        " 46566                         Corp. | Corp .                        46524\n",
        " 47063                           2 1 |                               47022\n",
        " 47065                               | 1/2                           47023\n",
        " 48022            Philippines-backed | Philippines - backed          47981\n",
        " 48028                         Sen . | Sen.                          47989\n",
        " 48298                               | '                             48258\n",
        " 48366                         Ind . | Ind.                          48327\n",
        " 48421                        Conn . | Conn.                         48381\n",
        " 48874                               | '                             48833\n",
        " 48910                             S | 'S                            48870\n",
        " 49178                          Pa . | Pa.                           49138\n",
        " 49222                          Pa . | Pa.                           49181\n",
        " 50059                        Prof . | Prof.                         50017\n",
        " 50210                          N.J. | N.J .                         50167\n",
        " 50343                          N.Y. | N.Y .                         50301\n",
        " 50664                          N.C. | N.C .                         50623\n",
        " 50681                          US $ | US$                           50641\n",
        " 51109                         Ore . | Ore.                          51068\n",
        " 51686                          U.S. | U.S .                         51644\n",
        " 52269                       O Brien | O'Brien                       52228\n",
        " 52412                       O Brien | O'Brien                       52370\n",
        " 52435                               | '                             52392\n",
        " 52578                         . . . | ...                           52536\n",
        " 53765                        10 1 2 | 10 1/2                        53721\n",
        " 53786                         9 1 2 | 9 1/2                         53742\n",
        " 53791                         8 3 4 | 8 3/4                         53747\n",
        " 53796                         8 3 4 | 8 3/4                         53752\n",
        " 53829                        U.S.A. | U.S.A .                       53785\n",
        " 53831                          Inc. | Inc .                         53788\n",
        " 53856                         9 3 4 | 9 3/4                         53814\n",
        " 54008                        C.D. s | C.D.s                         53966\n",
        " 54099                         8 3 4 | 8 3/4                         54056\n",
        " 54103                           8 5 |                               54060\n",
        " 54105                               | 5/8                           54061\n",
        " 54109                       8 13 16 | 8 13/16                       54066\n",
        " 54113                       8 11 16 | 8 11/16                       54070\n",
        " 54119                         8 3 4 | 8 3/4                         54076\n",
        " 54123                           8 5 |                               54080\n",
        " 54125                               | 5/8                           54081\n",
        " 54129                           8 5 |                               54086\n",
        " 54131                               | 5/8                           54087\n",
        " 54133                         8 1 2 | 8 1/2                         54090\n",
        " 54139                         8 1 2 | 8 1/2                         54096\n",
        " 54143                        8 7 16 | 8 7/16                        54100\n",
        " 54149                         8 1 2 | 8 1/2                         54106\n",
        " 54153                           8 3 |                               54110\n",
        " 54155                               | 3/8                           54111\n",
        " 54167                         8 3 4 | 8 3/4                         54124\n",
        " 54173                         8 3 4 | 8 3/4                         54130\n",
        " 54179                         8 1 2 | 8 1/2                         54136\n",
        " 54185                        8 7 16 | 8 7/16                        54142\n",
        " 54345                          Inc. | Inc .                         54302\n",
        " 54395                          Inc. | Inc .                         54353\n",
        " 54602                          U.S. | U.S .                         54561\n",
        " 54785    Ballantine Del Rey Fawcett | Ballantine/Del Rey/Fawcett    54745\n",
        " 55027                         . . . | ...                           54985\n",
        " 55129                         . . . | ...                           55085\n",
        " 55484                          U.S. | U.S .                         55438\n",
        " 56027                           v . | v.                            55982\n",
        " 56488                           v . | v.                            56442\n",
        " 56578                          No . | No.                           56531\n",
        " 56689                               | '                             56641\n",
        " 56807                      240 page | 240-page                      56760\n",
        " 57279           238,000 circulation | 238,000-circulation           57231\n",
        " 57731                          Inc. | Inc .                         57682\n",
        " 58553                               | {                             58505\n",
        " 58555                               | }                             58508\n",
        " 59026                         Nev . | Nev.                          58980\n",
        " 59035                         Fla . | Fla.                          58988\n",
        " 59046                         Fla . | Fla.                          58998\n",
        " 59754                     190 point | 190-point                     59705\n",
        " 60515                               | '                             60465\n",
        " 60724                               | '                             60675\n",
        " 61334                         Corp. | Corp .                        61286\n",
        " 61404                               | {                             61357\n",
        " 61406                               | }                             61360\n",
        " 61749                               | '                             61704\n",
        " 61897                               | '                             61853\n",
        " 61973                         Corp. | Corp .                        61930\n",
        " 62056                          Inc. | Inc .                         62014\n",
        " 62079                               | '                             62038\n",
        " 62242                               | '                             62202\n",
        " 62289                               | !                             62250\n",
        " 62304                               | '                             62266\n",
        " 62389                        Prof . | Prof.                         62352\n",
        " 63098                               | '                             63060\n",
        " 63324                   key-someone | key - someone                 63287\n",
        " 63575                               | !                             63540\n",
        " 64214                         etc . | etc.                          64180\n",
        " 65302                          Inc. | Inc .                         65267\n",
        " 65502                    O Loughlin | O'Loughlin                    65468\n",
        " 65639                       Calif . | Calif.                        65604\n",
        " 65675                          N.J. | N.J .                         65639\n",
        " 65744                          Pa . | Pa.                           65709\n",
        " 65769                        Mass . | Mass.                         65733\n",
        " 65831                         . . . | ...                           65794\n",
        " 66087                       Calif . | Calif.                        66048\n",
        " 66668                               | '                             66628\n",
        " 66767                       Calif . | Calif.                        66728\n",
        " 67211                        AT & T | AT&T                          67171\n",
        " 67250                        AT & T | AT&T                          67208\n",
        " 67297                        AT & T | AT&T                          67253\n",
        " 67368                               | '                             67322\n",
        " 67448                        AT & T | AT&T                          67403\n",
        " 67498                          1s t | 1st                           67451\n",
        " 67691                    non-U . S. | non-U.S.                      67643\n",
        " 67721                           8 3 |                               67671\n",
        " 67723                               | 3/8                           67672\n",
        " 67756                           8 1 |                               67706\n",
        " 67758                               | 1/8                           67707\n",
        " 67790                          Inc. | Inc .                         67740\n",
        " 67858                        99 1 4 | 99 1/4                        67809\n",
        " 67895                       Calif . | Calif.                        67846\n",
        " 67942                         7 3 8 | 7 3/8                         67892\n",
        " 67952                        99 1 2 | 99 1/2                        67902\n",
        " 67960                         7 3 8 | 7 3/8                         67910\n",
        " 68181                         7 1 2 | 7 1/2                         68131\n",
        " 68192                         7 5 8 | 7 5/8                         68142\n",
        " 68206                         7 5 8 | 7 5/8                         68156\n",
        " 68215                        98 1 2 | 98 1/2                        68165\n",
        " 68233                           Co. | Co .                          68183\n",
        " 68255                         3 7 8 | 3 7/8                         68206\n",
        " 68265                          Ltd. | Ltd .                         68216\n",
        " 68295                           2 1 |                               68247\n",
        " 68297                               | 1/2                           68248\n",
        " 68309                         2 1 4 | 2 1/4                         68261\n",
        " 68335                       101 3 4 | 101 3/4                       68287\n",
        " 68356                         1 7 8 | 1 7/8                         68308\n",
        " 68361                           Co. | Co .                          68313\n",
        " 68406                       107 7 8 | 107 7/8                       68359\n",
        " 68452                         1 3 4 | 1 3/4                         68405\n",
        " 68457                           Co. | Co .                          68410\n",
        " 68502                       106 7 8 | 106 7/8                       68456\n",
        " 68549                         1 5 8 | 1 5/8                         68503\n",
        " 68554                         Corp. | Corp .                        68508\n",
        " 68564                         6 1 2 | 6 1/2                         68519\n",
        " 68578                        99 1 2 | 99 1/2                        68533\n",
        " 68593                          Ltd. | Ltd .                         68548\n",
        " 68595                         1 3 4 | 1 3/4                         68551\n",
        " 69378                               | '                             69334\n",
        " 69469                               | '                             69426\n",
        " 69644                    62 % owned | 62%-owned                     69602\n",
        " 69650                           Co. | Co .                          69606\n",
        " 70145                           Co. | Co .                          70102\n",
        " 70667                           Co. | Co .                          70625\n",
        " 70697                          No . | No.                           70656\n",
        " 70729                          U.S. | U.S .                         70687\n",
        " 71195                           v . | v.                            71154\n",
        " 71756                        Conn . | Conn.                         71714\n",
        " 71792                          N.V. | N.V .                         71749\n",
        " 72263                         Ill . | Ill.                          72221\n",
        " 72347                         Wis . | Wis.                          72304\n",
        " 72832         Bridgestone Firestone | Bridgestone/Firestone         72788\n",
        " 73025                     100 share | 100-share                     72980\n",
        " 73386                        B.A. T | B.A.T                         73340\n",
        " 73421                        B.A. T | B.A.T                         73374\n",
        " 73704                   1,050 , 000 | 1,050,000                     73656\n",
        " 73722                          Inc. | Inc .                         73672\n",
        " 73749                          Inc. | Inc .                         73700\n",
        " 73771                         Corp. | Corp .                        73723\n",
        " 73853                          Inc. | Inc .                         73806\n",
        " 73862                   3,250 , 000 | 3,250,000                     73816\n",
        " 73872                   3,040 , 000 | 3,040,000                     73824\n",
        " 73906                          Inc. | Inc .                         73856\n",
        " 73910                               | !                             73861\n",
        " 73948                       D Amico | D'Amico                       73900\n",
        " 73971                       Calif . | Calif.                        73922\n",
        " 74003                 Calif . based | Calif.-based                  73953\n",
        " 74703                          Inc. | Inc .                         74651\n",
        " 74925                    \ufffdyesterday | yesterday                     74874\n",
        " 74927                             \ufffd |                               74876\n",
        " 74948                         Corp. | Corp .                        74896\n",
        " 75037                          14 . | 14.                           74986\n",
        " 75356                           8 1 |                               75304\n",
        " 75358                               | 1/8                           75305\n",
        " 75481                     102 22 32 | 102 22/32                     75429\n",
        " 75489                     102 12 32 | 102 12/32                     75437\n",
        " 75504                     100 22 32 | 100 22/32                     75452\n",
        " 75512                     100 16 32 | 100 16/32                     75460\n",
        " 75783                        98 5 8 | 98 5/8                        75731\n",
        " 75791                         9 1 2 | 9 1/2                         75739\n",
        " 75796                     100 22 32 | 100 22/32                     75744\n",
        " 75958                       Calif . | Calif.                        75906\n",
        " 75991                         Corp. | Corp .                        75938\n",
        " 76030                        Mich . | Mich.                         75978\n",
        " 76165                No . 111 4 . 6 | No. 111 4.6                   76112\n",
        " 76192                        11 3 4 | 11 3/4                        76137\n",
        " 76201                      111 2 32 | 111 2/32                      76146\n",
        " 76217                       103 3 8 | 103 3/8                       76162\n",
        " 76390             property casualty | property/casualty             76335\n",
        " 76410             property casualty | property/casualty             76354\n",
        " 76529                          Ltd. | Ltd .                         76472\n",
        " 76611                          S.A. | S.A .                         76555\n",
        " 76874                               | '                             76819\n",
        " 77119                          N.C. | N.C .                         77065\n",
        " 77129                    Mo . based | Mo.-based                     77076\n",
        " 77760                     500 stock | 500-stock                     77705\n",
        " 77959                               | '                             77903\n",
        " 78002                               | '                             77947\n",
        " 78215                   300 a-share | 300-a-share                   78161\n",
        " 78484                          Inc. | Inc .                         78429\n",
        " 78529                               | '                             78475\n",
        " 78653                          Ga . | Ga.                           78600\n",
        " 78666                               | '                             78612\n",
        " 78939                       p . m . | p.m.                          78886\n",
        " 79663                  100 megabyte | 100-megabyte                  79607\n",
        " 80690                               | '                             80633\n",
        " 80771                          U.S. | U.S .                         80715\n",
        " 81023                         Cos . | Cos.                          80968\n",
        " 81782                        Dunkin | Dunkin'                       81726\n",
        " 81804                        Dunkin | Dunkin'                       81748\n",
        " 81901                        Dunkin | Dunkin'                       81845\n",
        " 81931                        Dunkin | Dunkin'                       81875\n",
        " 81997                  Conn . based | Conn.based                    81941\n",
        " 82350                     500 Stock | 500-Stock                     82292\n",
        " 82418                 154,240 , 000 | 154,240,000                   82359\n",
        " 82565                               | '                             82504\n",
        " 82703               3 3 8 to 47 1 8 | 3 3/8 to 47 1/8               82643\n",
        " 82786               1 3 4 to 59 1 2 | 1 3/4 to 59 1/2               82726\n",
        " 82796               1 3 4 to 29 1 4 | 1 3/4 to 29 1/4               82736\n",
        " 82808                        57 7 8 | 57 7/8                        82748\n",
        " 82815               2 5 8 to 28 3 4 | 2 5/8 to 28 3/4               82755\n",
        " 82834                        38 7 8 | 38 7/8                        82774\n",
        " 82859               1 3 4 to 73 1 8 | 1 3/4 to 73 1/8               82799\n",
        " 82895                   120 a-share | 120-a-share                   82835\n",
        " 82903                         1 1 2 | 1 1/2                         82842\n",
        " 82934                   300 a-share | 300-a-share                   82873\n",
        " 82954               1 3 4 to 51 1 4 | 1 3/4 to 51 1/4               82892\n",
        " 82992                        22 3 4 | 22 3/4                        82930\n",
        " 83010                        20 1 8 | 20 1/8                        82948\n",
        " 83026               1 3 8 to 61 1 2 | 1 3/8 to 61 1/2               82964\n",
        " 83046                           2 1 |                               82984\n",
        " 83048                               | 1/2                           82985\n",
        " 83054                        50 3 8 | 50 3/8                        82992\n",
        " 83069                        39 1 2 | 39 1/2                        83007\n",
        " 83078                        24 3 8 | 24 3/8                        83016\n",
        " 83086                        48 3 8 | 48 3/8                        83024\n",
        " 83092                             > |                               83030\n",
        " 83096                  48 7 8 , > < | 48 7/8 ,                      83033\n",
        " 83102              In < ternational | International                 83037\n",
        " 83108                        31 1 2 | 31 1/2                        83041\n",
        " 83115                        40 1 4 | 40 1/4                        83048\n",
        " 83122                        53 3 8 | 53 3/8                        83055\n",
        " 83163               1 1 8 to 17 3 4 | 1 1/8 to 17 3/4               83096\n",
        " 83236                        19 3 8 | 19 3/8                        83169\n",
        " 83273                  11,390 , 000 | 11,390,000                    83206\n",
        " 83284                        16 1 8 | 16 1/8                        83215\n",
        " 84646                          U.S. | U.S .                         84577\n",
        " 84738               2,050 passenger | 2,050-passenger               84670\n",
        " 84839                       Calif . | Calif.                        84770\n",
        " 85045                         Ill . | Ill.                          84975\n",
        " 85095                  Mich . based | Mich.-based                   85024\n",
        " 85265                          Inc. | Inc .                         85192\n",
        " 85287                        Conn . | Conn.                         85215\n",
        " 85409                   U.S. backed | U.S.-backed                   85336\n",
        " 85434                         Feb . | Feb.                          85360\n",
        " 85793               U.N. supervised | U.N.-supervised               85718\n",
        " 85904                   Sino-U . S. | Sino-U.S.                     85828\n",
        " 86031                      237 seat | 237-seat                      85953\n",
        " 86319                  Guber Peters | Guber/Peters                  86240\n",
        " 86333                  Guber Peters | Guber/Peters                  86253\n",
        " 86517             Property casualty | Property/casualty             86436\n",
        " 86577                      Sept. 30 | Sept.30                       86495\n",
        " 86587                          US $ | US$                           86504\n",
        " 87220                               | '                             87136\n",
        " 87266                 154,240 , 000 | 154,240,000                   87183\n",
        " 87385                       Calif . | Calif.                        87300\n",
        " 87442                         4 1 8 | 4 1/8                         87356\n",
        " 87447                        11 3 4 | 11 3/4                        87361\n",
        " 87504                         5 1 4 | 5 1/4                         87418\n",
        " 87703                               | '                             87617\n",
        " 88285                          vs . | vs.                           88200\n",
        " 88322                        Mass . | Mass.                         88236\n",
        " 88652                           and | { and }                       88565\n",
        " 88729                               | '                             88644\n",
        " 88809                               | '                             88725\n",
        " 88824                      G. m . b | G.m.b                         88741\n",
        " 89125                         Del . | Del.                          89039\n",
        " 89346                           Co. | Co .                          89259\n",
        " 89517                          Inc. | Inc .                         89431\n",
        " 89521                        Ariz . | Ariz.                         89436\n",
        " 90791                          Inc. | Inc .                         90705\n",
        " 90977                       Calif . | Calif.                        90892\n",
        " 91015                          Va . | Va.                           90929\n",
        " 91395                               | '                             91308\n",
        " 91460                       300 day | 300-day                       91374\n",
        " 91630                          U.S. | U.S .                         91543\n",
        " 92602                       O Neill | O'Neill                       92516\n",
        " 92712                 226,570 , 380 | 226,570,380                   92625\n",
        " 92886                               | '                             92797\n",
        " 93325                          Ltd. | Ltd .                         93237\n",
        " 93483                               | '                             93396\n",
        " 94066                         Sen . | Sen.                          93980\n",
        " 94073                        Mass . | Mass.                         93986\n",
        " 94205                         Sen . | Sen.                          94117\n",
        "\n",
        "Test size: 94289 tokens\n",
        "Gold size: 94200 tokens\n",
        "Nr errors:   536 chunks\n",
        "Precision: 99.11 %\n",
        "Recall: 99.20 %\n",
        "F-score: 99.16 %\n"
       ]
      }
     ],
     "prompt_number": 177
    },
    {
     "cell_type": "markdown",
     "metadata": {},
     "source": [
      "How big is the corpus (nr. of tokens); and how many types are there? "
     ]
    },
    {
     "cell_type": "code",
     "collapsed": false,
     "input": [
      "def num_tokens(tokens):\n",
      "    return len(tokens)\n",
      "def types_tokens(tokens):\n",
      "    return len(set(tokens))"
     ],
     "language": "python",
     "metadata": {},
     "outputs": [],
     "prompt_number": 10
    },
    {
     "cell_type": "code",
     "collapsed": false,
     "input": [
      "num_tokens(tokens)"
     ],
     "language": "python",
     "metadata": {},
     "outputs": [
      {
       "metadata": {},
       "output_type": "pyout",
       "prompt_number": 11,
       "text": [
        "94332"
       ]
      }
     ],
     "prompt_number": 11
    },
    {
     "cell_type": "code",
     "collapsed": false,
     "input": [
      "types_tokens(tokens)"
     ],
     "language": "python",
     "metadata": {},
     "outputs": [
      {
       "metadata": {},
       "output_type": "pyout",
       "prompt_number": 12,
       "text": [
        "12017"
       ]
      }
     ],
     "prompt_number": 12
    },
    {
     "cell_type": "markdown",
     "metadata": {},
     "source": [
      "What is the average token length? "
     ]
    },
    {
     "cell_type": "code",
     "collapsed": false,
     "input": [
      "import numpy as np\n",
      "np.mean([len(t) for t in tokens])"
     ],
     "language": "python",
     "metadata": {},
     "outputs": [
      {
       "metadata": {},
       "output_type": "pyout",
       "prompt_number": 13,
       "text": [
        "4.4604376033583515"
       ]
      }
     ],
     "prompt_number": 13
    },
    {
     "cell_type": "markdown",
     "metadata": {},
     "source": [
      "What is the longest token length, and which tokens have that length? "
     ]
    },
    {
     "cell_type": "code",
     "collapsed": false,
     "input": [
      "max_token_lenght(tokens)"
     ],
     "language": "python",
     "metadata": {},
     "outputs": [
      {
       "metadata": {},
       "output_type": "pyout",
       "prompt_number": 15,
       "text": [
        "24"
       ]
      }
     ],
     "prompt_number": 15
    },
    {
     "cell_type": "code",
     "collapsed": false,
     "input": [
      "def max_token_lenght(tokens):\n",
      " return np.max([len(t) for t in tokens])\n",
      "\n",
      "def longest_tokens(tokens,max_len):\n",
      "  longest=[]\n",
      "  for i in range(len(tokens)):\n",
      "    if len(tokens[i])==max_len:\n",
      "        longest.append(tokens[i])\n",
      "  return longest      "
     ],
     "language": "python",
     "metadata": {},
     "outputs": [],
     "prompt_number": 14
    },
    {
     "cell_type": "code",
     "collapsed": false,
     "input": [
      "longest_tokens(tokens,24)"
     ],
     "language": "python",
     "metadata": {},
     "outputs": [
      {
       "metadata": {},
       "output_type": "pyout",
       "prompt_number": 17,
       "text": [
        "['marketing-communications']"
       ]
      }
     ],
     "prompt_number": 17
    },
    {
     "cell_type": "code",
     "collapsed": false,
     "input": [
      "import pandas as pd"
     ],
     "language": "python",
     "metadata": {},
     "outputs": [],
     "prompt_number": 18
    },
    {
     "cell_type": "code",
     "collapsed": false,
     "input": [
      "dft=pd.DataFrame(columns=['tokens'])"
     ],
     "language": "python",
     "metadata": {},
     "outputs": [],
     "prompt_number": 19
    },
    {
     "cell_type": "code",
     "collapsed": false,
     "input": [
      "from pandas import Categorical\n",
      "a=pd.Categorical.from_array(tokens)\n",
      "a=Categorical(tokens)\n",
      "dft=a.describe()"
     ],
     "language": "python",
     "metadata": {},
     "outputs": [],
     "prompt_number": 20
    },
    {
     "cell_type": "code",
     "collapsed": false,
     "input": [
      "dft.describe()"
     ],
     "language": "python",
     "metadata": {},
     "outputs": [
      {
       "html": [
        "<div style=\"max-height:1000px;max-width:1500px;overflow:auto;\">\n",
        "<table border=\"1\" class=\"dataframe\">\n",
        "  <thead>\n",
        "    <tr style=\"text-align: right;\">\n",
        "      <th></th>\n",
        "      <th>counts</th>\n",
        "      <th>freqs</th>\n",
        "    </tr>\n",
        "  </thead>\n",
        "  <tbody>\n",
        "    <tr>\n",
        "      <th>count</th>\n",
        "      <td> 12017.000000</td>\n",
        "      <td> 12017.000000</td>\n",
        "    </tr>\n",
        "    <tr>\n",
        "      <th>mean</th>\n",
        "      <td>     7.849879</td>\n",
        "      <td>     0.000083</td>\n",
        "    </tr>\n",
        "    <tr>\n",
        "      <th>std</th>\n",
        "      <td>    84.024002</td>\n",
        "      <td>     0.000891</td>\n",
        "    </tr>\n",
        "    <tr>\n",
        "      <th>min</th>\n",
        "      <td>     1.000000</td>\n",
        "      <td>     0.000011</td>\n",
        "    </tr>\n",
        "    <tr>\n",
        "      <th>25%</th>\n",
        "      <td>     1.000000</td>\n",
        "      <td>     0.000011</td>\n",
        "    </tr>\n",
        "    <tr>\n",
        "      <th>50%</th>\n",
        "      <td>     1.000000</td>\n",
        "      <td>     0.000011</td>\n",
        "    </tr>\n",
        "    <tr>\n",
        "      <th>75%</th>\n",
        "      <td>     4.000000</td>\n",
        "      <td>     0.000042</td>\n",
        "    </tr>\n",
        "    <tr>\n",
        "      <th>max</th>\n",
        "      <td>  4899.000000</td>\n",
        "      <td>     0.051934</td>\n",
        "    </tr>\n",
        "  </tbody>\n",
        "</table>\n",
        "</div>"
       ],
       "metadata": {},
       "output_type": "pyout",
       "prompt_number": 21,
       "text": [
        "             counts         freqs\n",
        "count  12017.000000  12017.000000\n",
        "mean       7.849879      0.000083\n",
        "std       84.024002      0.000891\n",
        "min        1.000000      0.000011\n",
        "25%        1.000000      0.000011\n",
        "50%        1.000000      0.000011\n",
        "75%        4.000000      0.000042\n",
        "max     4899.000000      0.051934"
       ]
      }
     ],
     "prompt_number": 21
    },
    {
     "cell_type": "code",
     "collapsed": false,
     "input": [
      "%pylab inline"
     ],
     "language": "python",
     "metadata": {},
     "outputs": [
      {
       "output_type": "stream",
       "stream": "stdout",
       "text": [
        "Populating the interactive namespace from numpy and matplotlib\n"
       ]
      }
     ],
     "prompt_number": 22
    },
    {
     "cell_type": "code",
     "collapsed": false,
     "input": [
      "dft.sort('freqs',ascending=False)['freqs'].cumsum().plot(title='Cumulative distribution')"
     ],
     "language": "python",
     "metadata": {},
     "outputs": [
      {
       "metadata": {},
       "output_type": "pyout",
       "prompt_number": 23,
       "text": [
        "<matplotlib.axes.AxesSubplot at 0x7f1e333977d0>"
       ]
      },
      {
       "output_type": "stream",
       "stream": "stderr",
       "text": [
        "/home/kalidus/anaconda/lib/python2.7/site-packages/matplotlib/font_manager.py:1236: UserWarning: findfont: Font family ['Arial'] not found. Falling back to Bitstream Vera Sans\n",
        "  (prop.get_family(), self.defaultFamily[fontext]))\n"
       ]
      },
      {
       "metadata": {},
       "output_type": "display_data",
       "png": "[encoded data removed]",
       "text": [
        "<matplotlib.figure.Figure at 0x7f1e33397250>"
       ]
      }
     ],
     "prompt_number": 23
    },
    {
     "cell_type": "markdown",
     "metadata": {},
     "source": [
      "How many hapax tokens are there? How many percent of the total tokens in the corpus?"
     ]
    },
    {
     "cell_type": "code",
     "collapsed": false,
     "input": [
      "fdist=nltk.FreqDist(gold_tokens)\n",
      "print \"There are \"+str(len(fdist.hapaxes()))+\" different hapaxes\"\n",
      "print str(round(len(fdist.hapaxes())/float(num_tokens(gold_tokens))*100,3))+\"% of the tokens are hapaxes\""
     ],
     "language": "python",
     "metadata": {},
     "outputs": [
      {
       "output_type": "stream",
       "stream": "stdout",
       "text": [
        "There are 6222 different hapaxes\n",
        "6.605% of the tokens are hapaxes\n"
       ]
      }
     ],
     "prompt_number": 24
    },
    {
     "cell_type": "markdown",
     "metadata": {},
     "source": [
      "Which are the 10 most frequent types? How many percent of the total tokens in the corpus consist\n",
      "of these types?"
     ]
    },
    {
     "cell_type": "code",
     "collapsed": false,
     "input": [
      "top10=dft.sort('counts',ascending=False).head(10)\n",
      "import seaborn as sns\n",
      "top10['counts'].plot(kind='bar',figsize=(8,5),title='10 most common tokens')"
     ],
     "language": "python",
     "metadata": {},
     "outputs": [
      {
       "metadata": {},
       "output_type": "pyout",
       "prompt_number": 25,
       "text": [
        "<matplotlib.axes.AxesSubplot at 0x7f1e329f3e10>"
       ]
      },
      {
       "metadata": {},
       "output_type": "display_data",
       "png": "[encoded data removed]",
       "text": [
        "<matplotlib.figure.Figure at 0x7f1e32a0a7d0>"
       ]
      }
     ],
     "prompt_number": 25
    },
    {
     "cell_type": "code",
     "collapsed": false,
     "input": [
      "fdist.plot(10)"
     ],
     "language": "python",
     "metadata": {},
     "outputs": [
      {
       "metadata": {},
       "output_type": "display_data",
       "png": "[encoded data removed]",
       "text": [
        "<matplotlib.figure.Figure at 0x7f1e32af2710>"
       ]
      }
     ],
     "prompt_number": 26
    },
    {
     "cell_type": "markdown",
     "metadata": {},
     "source": [
      "Divide the corpus in 10 equally large subcorpora, sub[0]...sub[9].\n",
      "- How many hapaxes are there in c[0]? How many percent of tokens in c[0]?\n",
      "- How many hapaxes in c[1], given that you already have seen c[0]? How many percent of tokens in c[1]?\n",
      "- How many in c[2], given that you already have seen c[0] + c[1]? How many percent?\n",
      "- How many in c[k], given c[0] + ... + c[k-1]? How many percent?\n",
      "- Hint: write a function that solves the general problem, and then just loop from 0 to 9."
     ]
    },
    {
     "cell_type": "code",
     "collapsed": false,
     "input": [
      "def divide_equal(text,num=10):\n",
      "    len_sub=len(text)/num\n",
      "    subcorpora=[text[i*len_sub:len_sub+i*len_sub]  for i in range(num)]\n",
      "    return subcorpora\n",
      "\n",
      "def count_hapaxes(tokens):\n",
      "    fdist0=nltk.FreqDist(tokens)\n",
      "    return len(fdist0.hapaxes())\n",
      "\n",
      "def pct_hapaxes(tokens):\n",
      "    fdist0=nltk.FreqDist(tokens)\n",
      "    return float(len(fdist0.hapaxes()))/float(len(tokens))\n",
      "\n",
      "def get_subtokens(subcorpus):\n",
      "    return [tokenize_corpus(s_text) for s_text in subcorpus]\n",
      "\n",
      "def count_tokens(subtokens):\n",
      "    return [len(sub[i]) for i in range(len(subtokens))]\n",
      "def cum_pct(df):\n",
      "    df['cum_pct']=df.cum_hapaxes/df.cum_tokens\n",
      "    return df"
     ],
     "language": "python",
     "metadata": {},
     "outputs": [],
     "prompt_number": 202
    },
    {
     "cell_type": "code",
     "collapsed": false,
     "input": [
      "def subcorpus_statistics(cor_text,divisions=10):\n",
      "  sub= divide_equal(cor_text,divisions)\n",
      "  subtokens=get_subtokens(sub)\n",
      "  sub_hapaxes=[count_hapaxes(subtokens[i]) for i in range(len(sub))]\n",
      "  pc_hapaxes=[pct_hapaxes(subtokens[i]) for i in range(len(sub))]\n",
      "  #print  \"sub_hapaxes\n",
      "  sc=pd.DataFrame(index=np.arange(len(sub))+1,columns=['hapaxes','pct_hapaxes','tokens'])\n",
      "    \n",
      "  sc.hapaxes=np.array(sub_hapaxes)\n",
      "  sc.pct_hapaxes=np.array(pc_hapaxes)\n",
      "  sc.tokens=np.array(count_tokens(subtokens))\n",
      "  sc['cum_tokens']=sc.tokens.cumsum().copy().values\n",
      "  sc['cum_hapaxes']=sc.hapaxes.cumsum().copy().values\n",
      "  return cum_pct(sc)\n"
     ],
     "language": "python",
     "metadata": {},
     "outputs": [],
     "prompt_number": 203
    },
    {
     "cell_type": "code",
     "collapsed": false,
     "input": [
      "\n",
      "sub= divide_equal(cor_text)\n",
      "subtokens=get_subtokens(sub)"
     ],
     "language": "python",
     "metadata": {},
     "outputs": [],
     "prompt_number": 204
    },
    {
     "cell_type": "code",
     "collapsed": false,
     "input": [
      "sc=subcorpus_statistics(cor_text,8)"
     ],
     "language": "python",
     "metadata": {},
     "outputs": [],
     "prompt_number": 205
    },
    {
     "cell_type": "code",
     "collapsed": false,
     "input": [
      "sc"
     ],
     "language": "python",
     "metadata": {},
     "outputs": [
      {
       "html": [
        "<div style=\"max-height:1000px;max-width:1500px;overflow:auto;\">\n",
        "<table border=\"1\" class=\"dataframe\">\n",
        "  <thead>\n",
        "    <tr style=\"text-align: right;\">\n",
        "      <th></th>\n",
        "      <th>hapaxes</th>\n",
        "      <th>pct_hapaxes</th>\n",
        "      <th>tokens</th>\n",
        "      <th>cum_tokens</th>\n",
        "      <th>cum_hapaxes</th>\n",
        "      <th>cum_pct</th>\n",
        "    </tr>\n",
        "  </thead>\n",
        "  <tbody>\n",
        "    <tr>\n",
        "      <th>1</th>\n",
        "      <td> 1918</td>\n",
        "      <td> 0.165174</td>\n",
        "      <td> 50621</td>\n",
        "      <td>  50621</td>\n",
        "      <td>  1918</td>\n",
        "      <td> 0.037889</td>\n",
        "    </tr>\n",
        "    <tr>\n",
        "      <th>2</th>\n",
        "      <td> 1940</td>\n",
        "      <td> 0.163934</td>\n",
        "      <td> 50621</td>\n",
        "      <td> 101242</td>\n",
        "      <td>  3858</td>\n",
        "      <td> 0.038107</td>\n",
        "    </tr>\n",
        "    <tr>\n",
        "      <th>3</th>\n",
        "      <td> 1753</td>\n",
        "      <td> 0.147150</td>\n",
        "      <td> 50621</td>\n",
        "      <td> 151863</td>\n",
        "      <td>  5611</td>\n",
        "      <td> 0.036948</td>\n",
        "    </tr>\n",
        "    <tr>\n",
        "      <th>4</th>\n",
        "      <td> 1918</td>\n",
        "      <td> 0.159342</td>\n",
        "      <td> 50621</td>\n",
        "      <td> 202484</td>\n",
        "      <td>  7529</td>\n",
        "      <td> 0.037183</td>\n",
        "    </tr>\n",
        "    <tr>\n",
        "      <th>5</th>\n",
        "      <td> 1935</td>\n",
        "      <td> 0.164555</td>\n",
        "      <td> 50621</td>\n",
        "      <td> 253105</td>\n",
        "      <td>  9464</td>\n",
        "      <td> 0.037392</td>\n",
        "    </tr>\n",
        "    <tr>\n",
        "      <th>6</th>\n",
        "      <td> 1791</td>\n",
        "      <td> 0.151690</td>\n",
        "      <td> 50621</td>\n",
        "      <td> 303726</td>\n",
        "      <td> 11255</td>\n",
        "      <td> 0.037056</td>\n",
        "    </tr>\n",
        "    <tr>\n",
        "      <th>7</th>\n",
        "      <td> 1776</td>\n",
        "      <td> 0.151626</td>\n",
        "      <td> 50621</td>\n",
        "      <td> 354347</td>\n",
        "      <td> 13031</td>\n",
        "      <td> 0.036775</td>\n",
        "    </tr>\n",
        "    <tr>\n",
        "      <th>8</th>\n",
        "      <td> 1876</td>\n",
        "      <td> 0.161487</td>\n",
        "      <td> 50621</td>\n",
        "      <td> 404968</td>\n",
        "      <td> 14907</td>\n",
        "      <td> 0.036810</td>\n",
        "    </tr>\n",
        "  </tbody>\n",
        "</table>\n",
        "</div>"
       ],
       "metadata": {},
       "output_type": "pyout",
       "prompt_number": 208,
       "text": [
        "   hapaxes  pct_hapaxes  tokens  cum_tokens  cum_hapaxes   cum_pct\n",
        "1     1918     0.165174   50621       50621         1918  0.037889\n",
        "2     1940     0.163934   50621      101242         3858  0.038107\n",
        "3     1753     0.147150   50621      151863         5611  0.036948\n",
        "4     1918     0.159342   50621      202484         7529  0.037183\n",
        "5     1935     0.164555   50621      253105         9464  0.037392\n",
        "6     1791     0.151690   50621      303726        11255  0.037056\n",
        "7     1776     0.151626   50621      354347        13031  0.036775\n",
        "8     1876     0.161487   50621      404968        14907  0.036810"
       ]
      }
     ],
     "prompt_number": 208
    },
    {
     "cell_type": "code",
     "collapsed": false,
     "input": [
      "from nltk.util import ngrams"
     ],
     "language": "python",
     "metadata": {},
     "outputs": [],
     "prompt_number": 207
    },
    {
     "cell_type": "code",
     "collapsed": false,
     "input": [
      "def get_len_grams(subtokens,n=2):\n",
      "    bigrams=[len(ngrams(subtokens[i],n)) for i in range(len(subtokens))]\n",
      "    return bigrams\n",
      "\n",
      "def len_uniqe_grams(subtokens,n=2):\n",
      "    bigrams=[len(set(ngrams(subtokens[i],n))) for i in range(len(subtokens))]\n",
      "    return bigrams"
     ],
     "language": "python",
     "metadata": {},
     "outputs": [],
     "prompt_number": 125
    },
    {
     "cell_type": "code",
     "collapsed": false,
     "input": [
      "bigrams=ngrams(subtokens[1],2)"
     ],
     "language": "python",
     "metadata": {},
     "outputs": [],
     "prompt_number": 109
    },
    {
     "cell_type": "code",
     "collapsed": false,
     "input": [
      "get_len_grams(subtokens,5)"
     ],
     "language": "python",
     "metadata": {},
     "outputs": [
      {
       "metadata": {},
       "output_type": "pyout",
       "prompt_number": 132,
       "text": [
        "[9235, 9615, 9270, 9607, 9675, 9390, 9348, 9446, 9463, 9248]"
       ]
      }
     ],
     "prompt_number": 132
    },
    {
     "cell_type": "code",
     "collapsed": false,
     "input": [
      "len_uniqe_grams(subtokens,5)"
     ],
     "language": "python",
     "metadata": {},
     "outputs": [
      {
       "metadata": {},
       "output_type": "pyout",
       "prompt_number": 131,
       "text": [
        "[9184, 9572, 9248, 9561, 9546, 9335, 9324, 9317, 9396, 9197]"
       ]
      }
     ],
     "prompt_number": 131
    },
    {
     "cell_type": "code",
     "collapsed": false,
     "input": [
      "cs=subcorpus_statistics(cor_text)"
     ],
     "language": "python",
     "metadata": {},
     "outputs": [],
     "prompt_number": 133
    },
    {
     "cell_type": "code",
     "collapsed": false,
     "input": [
      "sub_hapaxes=[count_hapaxes(subtokens[i]) for i in range(len(sub))]\n",
      "pc_hapaxes=[pct_hapaxes(subtokens[i]) for i in range(len(sub))]\n",
      "sub_tokens=[len(subtokens) for i in range(len(sub))]"
     ],
     "language": "python",
     "metadata": {},
     "outputs": [],
     "prompt_number": 44
    },
    {
     "cell_type": "code",
     "collapsed": false,
     "input": [
      "float(len(fdist.hapaxes()))/float(len(subtokens[0]))"
     ],
     "language": "python",
     "metadata": {},
     "outputs": [
      {
       "metadata": {},
       "output_type": "pyout",
       "prompt_number": 33,
       "text": [
        "0.6734495075224591"
       ]
      }
     ],
     "prompt_number": 33
    },
    {
     "cell_type": "code",
     "collapsed": false,
     "input": [
      "len(fdist.hapaxes())"
     ],
     "language": "python",
     "metadata": {},
     "outputs": [
      {
       "metadata": {},
       "output_type": "pyout",
       "prompt_number": 34,
       "text": [
        "6222"
       ]
      }
     ],
     "prompt_number": 34
    },
    {
     "cell_type": "code",
     "collapsed": false,
     "input": [
      "len(subtokens[0])"
     ],
     "language": "python",
     "metadata": {},
     "outputs": [
      {
       "metadata": {},
       "output_type": "pyout",
       "prompt_number": 35,
       "text": [
        "9239"
       ]
      }
     ],
     "prompt_number": 35
    },
    {
     "cell_type": "code",
     "collapsed": false,
     "input": [],
     "language": "python",
     "metadata": {},
     "outputs": [],
     "prompt_number": 35
    },
    {
     "cell_type": "code",
     "collapsed": false,
     "input": [],
     "language": "python",
     "metadata": {},
     "outputs": [],
     "prompt_number": 35
    },
    {
     "cell_type": "code",
     "collapsed": false,
     "input": [],
     "language": "python",
     "metadata": {},
     "outputs": [],
     "prompt_number": 35
    },
    {
     "cell_type": "code",
     "collapsed": false,
     "input": [],
     "language": "python",
     "metadata": {},
     "outputs": []
    }
   ],
   "metadata": {}
  }
 ]
}